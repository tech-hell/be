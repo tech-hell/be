{
  "nbformat": 4,
  "nbformat_minor": 0,
  "metadata": {
    "colab": {
      "provenance": [],
      "gpuType": "T4"
    },
    "kernelspec": {
      "name": "python3",
      "display_name": "Python 3"
    },
    "language_info": {
      "name": "python"
    },
    "accelerator": "GPU"
  },
  "cells": [
    {
      "cell_type": "code",
      "execution_count": 1,
      "metadata": {
        "colab": {
          "base_uri": "https://localhost:8080/"
        },
        "id": "gdDKZplXk4jZ",
        "outputId": "60fb1a6a-a0eb-4adf-9277-0e17ddb12a97"
      },
      "outputs": [
        {
          "output_type": "stream",
          "name": "stdout",
          "text": [
            "nvcc: NVIDIA (R) Cuda compiler driver\n",
            "Copyright (c) 2005-2023 NVIDIA Corporation\n",
            "Built on Tue_Aug_15_22:02:13_PDT_2023\n",
            "Cuda compilation tools, release 12.2, V12.2.140\n",
            "Build cuda_12.2.r12.2/compiler.33191640_0\n"
          ]
        }
      ],
      "source": [
        "!nvcc --version"
      ]
    },
    {
      "cell_type": "code",
      "source": [
        "!pip install git+https://github.com/andreinechaev/nvcc4jupyter.git"
      ],
      "metadata": {
        "colab": {
          "base_uri": "https://localhost:8080/"
        },
        "id": "cFlWSfkxlE6v",
        "outputId": "a202bf1f-8ea8-4f8f-dfae-ae1fb4eef773"
      },
      "execution_count": 2,
      "outputs": [
        {
          "output_type": "stream",
          "name": "stdout",
          "text": [
            "Collecting git+https://github.com/andreinechaev/nvcc4jupyter.git\n",
            "  Cloning https://github.com/andreinechaev/nvcc4jupyter.git to /tmp/pip-req-build-32i2c5u9\n",
            "  Running command git clone --filter=blob:none --quiet https://github.com/andreinechaev/nvcc4jupyter.git /tmp/pip-req-build-32i2c5u9\n",
            "  Resolved https://github.com/andreinechaev/nvcc4jupyter.git to commit 5741c522547756ac4bb7a16df32106a15efb8a57\n",
            "  Installing build dependencies ... \u001b[?25l\u001b[?25hdone\n",
            "  Getting requirements to build wheel ... \u001b[?25l\u001b[?25hdone\n",
            "  Preparing metadata (pyproject.toml) ... \u001b[?25l\u001b[?25hdone\n",
            "Building wheels for collected packages: nvcc4jupyter\n",
            "  Building wheel for nvcc4jupyter (pyproject.toml) ... \u001b[?25l\u001b[?25hdone\n",
            "  Created wheel for nvcc4jupyter: filename=nvcc4jupyter-1.2.1-py3-none-any.whl size=10741 sha256=1c43b610d84440f376c57bb0b3d20f87e2433fdb6f06eb98d5fd7c81c461a971\n",
            "  Stored in directory: /tmp/pip-ephem-wheel-cache-r3oiz8cg/wheels/a8/b9/18/23f8ef71ceb0f63297dd1903aedd067e6243a68ea756d6feea\n",
            "Successfully built nvcc4jupyter\n",
            "Installing collected packages: nvcc4jupyter\n",
            "Successfully installed nvcc4jupyter-1.2.1\n"
          ]
        }
      ]
    },
    {
      "cell_type": "code",
      "source": [
        "%load_ext nvcc4jupyter"
      ],
      "metadata": {
        "colab": {
          "base_uri": "https://localhost:8080/"
        },
        "id": "S0qqZAJmlFpX",
        "outputId": "7e55e5ba-b2d8-40e2-e773-8e28ef266bc8"
      },
      "execution_count": 3,
      "outputs": [
        {
          "output_type": "stream",
          "name": "stdout",
          "text": [
            "Detected platform \"Colab\". Running its setup...\n",
            "Source files will be saved in \"/tmp/tmpl00fhfxv\".\n"
          ]
        }
      ]
    },
    {
      "cell_type": "code",
      "source": [
        "# 1. Vector Additon\n",
        "\n",
        "%%cuda\n",
        "#include <stdio.h>\n",
        "\n",
        "#define N 10\n",
        "\n",
        "__global__ void vectorAdd(int *a, int *b, int *c) {\n",
        "    int tid = blockIdx.x * blockDim.x + threadIdx.x;\n",
        "\n",
        "    if (tid < N) {\n",
        "        c[tid] = a[tid] + b[tid];\n",
        "    }\n",
        "}\n",
        "\n",
        "int main() {\n",
        "    int *a, *b, *c; // Host vectors\n",
        "    int *d_a, *d_b, *d_c; // Device vectors\n",
        "    int size = N * sizeof(int);\n",
        "\n",
        "    // Allocate memory for host vectors\n",
        "    a = (int*)malloc(size);\n",
        "    b = (int*)malloc(size);\n",
        "    c = (int*)malloc(size);\n",
        "\n",
        "    // Initialize host vectors\n",
        "    for (int i = 0; i < N; i++) {\n",
        "        a[i] = i;\n",
        "        b[i] = i * i;\n",
        "    }\n",
        "\n",
        "    // Allocate memory for device vectors\n",
        "    cudaMalloc((void**)&d_a, size);\n",
        "    cudaMalloc((void**)&d_b, size);\n",
        "    cudaMalloc((void**)&d_c, size);\n",
        "\n",
        "    // Copy host vectors to device\n",
        "    cudaMemcpy(d_a, a, size, cudaMemcpyHostToDevice);\n",
        "    cudaMemcpy(d_b, b, size, cudaMemcpyHostToDevice);\n",
        "\n",
        "    // Launch kernel\n",
        "    vectorAdd<<<1, N>>>(d_a, d_b, d_c);\n",
        "\n",
        "    // Copy result from device to host\n",
        "    cudaMemcpy(c, d_c, size, cudaMemcpyDeviceToHost);\n",
        "\n",
        "    // Display result\n",
        "    for (int i = 0; i < N; i++) {\n",
        "        printf(\"%d + %d = %d\\n\", a[i], b[i], c[i]);\n",
        "    }\n",
        "\n",
        "    // Free device memory\n",
        "    cudaFree(d_a);\n",
        "    cudaFree(d_b);\n",
        "    cudaFree(d_c);\n",
        "\n",
        "    // Free host memory\n",
        "    free(a);\n",
        "    free(b);\n",
        "    free(c);\n",
        "\n",
        "    return 0;\n",
        "}\n"
      ],
      "metadata": {
        "colab": {
          "base_uri": "https://localhost:8080/"
        },
        "id": "HFdyCX5alUgo",
        "outputId": "12de2799-f679-4bb7-a0ad-92f0388fa7de"
      },
      "execution_count": 4,
      "outputs": [
        {
          "output_type": "stream",
          "name": "stdout",
          "text": [
            "0 + 0 = 0\n",
            "1 + 1 = 2\n",
            "2 + 4 = 6\n",
            "3 + 9 = 12\n",
            "4 + 16 = 20\n",
            "5 + 25 = 30\n",
            "6 + 36 = 42\n",
            "7 + 49 = 56\n",
            "8 + 64 = 72\n",
            "9 + 81 = 90\n",
            "\n"
          ]
        }
      ]
    },
    {
      "cell_type": "code",
      "source": [
        "%%cuda\n",
        "#include <stdio.h>\n",
        "\n",
        "#define N 4\n",
        "\n",
        "// Function to print a matrix\n",
        "void printMatrix(int *matrix, int width) {\n",
        "    for (int i = 0; i < width; ++i) {\n",
        "        for (int j = 0; j < width; ++j) {\n",
        "            printf(\"%d \", matrix[i * width + j]);\n",
        "        }\n",
        "        printf(\"\\n\");\n",
        "    }\n",
        "}\n",
        "\n",
        "__global__ void matrixMul(int *a, int *b, int *c, int width) {\n",
        "    int row = blockIdx.y * blockDim.y + threadIdx.y;\n",
        "    int col = blockIdx.x * blockDim.x + threadIdx.x;\n",
        "    int sum = 0;\n",
        "\n",
        "    if (col < width && row < width) {\n",
        "        for (int i = 0; i < width; ++i) {\n",
        "            sum += a[row * width + i] * b[i * width + col];\n",
        "        }\n",
        "        c[row * width + col] = sum;\n",
        "    }\n",
        "}\n",
        "\n",
        "int main() {\n",
        "    int *a, *b, *c; // Host matrices\n",
        "    int *d_a, *d_b, *d_c; // Device matrices\n",
        "    int size = N * N * sizeof(int);\n",
        "\n",
        "    // Allocate memory for host matrices\n",
        "    a = (int*)malloc(size);\n",
        "    b = (int*)malloc(size);\n",
        "    c = (int*)malloc(size);\n",
        "\n",
        "    // Initialize host matrices\n",
        "    for (int i = 0; i < N * N; i++) {\n",
        "        a[i] = i;\n",
        "        b[i] = i;\n",
        "    }\n",
        "\n",
        "    // Print matrices A and B\n",
        "    printf(\"Matrix A:\\n\");\n",
        "    printMatrix(a, N);\n",
        "    printf(\"\\nMatrix B:\\n\");\n",
        "    printMatrix(b, N);\n",
        "    printf(\"\\n\");\n",
        "\n",
        "    // Allocate memory for device matrices\n",
        "    cudaMalloc((void**)&d_a, size);\n",
        "    cudaMalloc((void**)&d_b, size);\n",
        "    cudaMalloc((void**)&d_c, size);\n",
        "\n",
        "    // Copy host matrices to device\n",
        "    cudaMemcpy(d_a, a, size, cudaMemcpyHostToDevice);\n",
        "    cudaMemcpy(d_b, b, size, cudaMemcpyHostToDevice);\n",
        "\n",
        "    // Define grid and block dimensions\n",
        "    dim3 dimBlock(2, 2);\n",
        "    dim3 dimGrid((N + dimBlock.x - 1) / dimBlock.x, (N + dimBlock.y - 1) / dimBlock.y);\n",
        "\n",
        "    // Launch kernel\n",
        "    matrixMul<<<dimGrid, dimBlock>>>(d_a, d_b, d_c, N);\n",
        "\n",
        "    // Copy result from device to host\n",
        "    cudaMemcpy(c, d_c, size, cudaMemcpyDeviceToHost);\n",
        "\n",
        "    // Display result\n",
        "    printf(\"Matrix C:\\n\");\n",
        "    for (int i = 0; i < N * N; i++) {\n",
        "        printf(\"%d \", c[i]);\n",
        "        if ((i + 1) % N == 0) {\n",
        "            printf(\"\\n\");\n",
        "        }\n",
        "    }\n",
        "\n",
        "    // Free device memory\n",
        "    cudaFree(d_a);\n",
        "    cudaFree(d_b);\n",
        "    cudaFree(d_c);\n",
        "\n",
        "    // Free host memory\n",
        "    free(a);\n",
        "    free(b);\n",
        "    free(c);\n",
        "\n",
        "    return 0;\n",
        "}\n"
      ],
      "metadata": {
        "colab": {
          "base_uri": "https://localhost:8080/"
        },
        "id": "gR-6TAS5lag4",
        "outputId": "76dae81e-34c4-4540-b18a-a48fd60351ac"
      },
      "execution_count": 5,
      "outputs": [
        {
          "output_type": "stream",
          "name": "stdout",
          "text": [
            "Matrix A:\n",
            "0 1 2 3 \n",
            "4 5 6 7 \n",
            "8 9 10 11 \n",
            "12 13 14 15 \n",
            "\n",
            "Matrix B:\n",
            "0 1 2 3 \n",
            "4 5 6 7 \n",
            "8 9 10 11 \n",
            "12 13 14 15 \n",
            "\n",
            "Matrix C:\n",
            "56 62 68 74 \n",
            "152 174 196 218 \n",
            "248 286 324 362 \n",
            "344 398 452 506 \n",
            "\n"
          ]
        }
      ]
    }
  ]
}