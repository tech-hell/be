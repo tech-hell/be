{
 "cells": [
  {
   "cell_type": "code",
   "execution_count": 2,
   "metadata": {},
   "outputs": [],
   "source": [
    "import tensorflow as tf\n",
    "import pandas as pd\n",
    "import matplotlib.pyplot as plt\n",
    "import seaborn as sns\n",
    "from sklearn.preprocessing import StandardScaler\n",
    "from sklearn.model_selection import train_test_split"
   ]
  },
  {
   "cell_type": "code",
   "execution_count": 3,
   "metadata": {},
   "outputs": [],
   "source": [
    "df = pd.read_csv('HousingData.csv')"
   ]
  },
  {
   "cell_type": "code",
   "execution_count": 4,
   "metadata": {},
   "outputs": [
    {
     "data": {
      "text/html": [
       "<div>\n",
       "<style scoped>\n",
       "    .dataframe tbody tr th:only-of-type {\n",
       "        vertical-align: middle;\n",
       "    }\n",
       "\n",
       "    .dataframe tbody tr th {\n",
       "        vertical-align: top;\n",
       "    }\n",
       "\n",
       "    .dataframe thead th {\n",
       "        text-align: right;\n",
       "    }\n",
       "</style>\n",
       "<table border=\"1\" class=\"dataframe\">\n",
       "  <thead>\n",
       "    <tr style=\"text-align: right;\">\n",
       "      <th></th>\n",
       "      <th>CRIM</th>\n",
       "      <th>ZN</th>\n",
       "      <th>INDUS</th>\n",
       "      <th>CHAS</th>\n",
       "      <th>NOX</th>\n",
       "      <th>RM</th>\n",
       "      <th>AGE</th>\n",
       "      <th>DIS</th>\n",
       "      <th>RAD</th>\n",
       "      <th>TAX</th>\n",
       "      <th>PTRATIO</th>\n",
       "      <th>B</th>\n",
       "      <th>LSTAT</th>\n",
       "      <th>MEDV</th>\n",
       "    </tr>\n",
       "  </thead>\n",
       "  <tbody>\n",
       "    <tr>\n",
       "      <th>0</th>\n",
       "      <td>0.00632</td>\n",
       "      <td>18.0</td>\n",
       "      <td>2.31</td>\n",
       "      <td>0.0</td>\n",
       "      <td>0.538</td>\n",
       "      <td>6.575</td>\n",
       "      <td>65.2</td>\n",
       "      <td>4.0900</td>\n",
       "      <td>1</td>\n",
       "      <td>296</td>\n",
       "      <td>15.3</td>\n",
       "      <td>396.90</td>\n",
       "      <td>4.98</td>\n",
       "      <td>24.0</td>\n",
       "    </tr>\n",
       "    <tr>\n",
       "      <th>1</th>\n",
       "      <td>0.02731</td>\n",
       "      <td>0.0</td>\n",
       "      <td>7.07</td>\n",
       "      <td>0.0</td>\n",
       "      <td>0.469</td>\n",
       "      <td>6.421</td>\n",
       "      <td>78.9</td>\n",
       "      <td>4.9671</td>\n",
       "      <td>2</td>\n",
       "      <td>242</td>\n",
       "      <td>17.8</td>\n",
       "      <td>396.90</td>\n",
       "      <td>9.14</td>\n",
       "      <td>21.6</td>\n",
       "    </tr>\n",
       "    <tr>\n",
       "      <th>2</th>\n",
       "      <td>0.02729</td>\n",
       "      <td>0.0</td>\n",
       "      <td>7.07</td>\n",
       "      <td>0.0</td>\n",
       "      <td>0.469</td>\n",
       "      <td>7.185</td>\n",
       "      <td>61.1</td>\n",
       "      <td>4.9671</td>\n",
       "      <td>2</td>\n",
       "      <td>242</td>\n",
       "      <td>17.8</td>\n",
       "      <td>392.83</td>\n",
       "      <td>4.03</td>\n",
       "      <td>34.7</td>\n",
       "    </tr>\n",
       "    <tr>\n",
       "      <th>3</th>\n",
       "      <td>0.03237</td>\n",
       "      <td>0.0</td>\n",
       "      <td>2.18</td>\n",
       "      <td>0.0</td>\n",
       "      <td>0.458</td>\n",
       "      <td>6.998</td>\n",
       "      <td>45.8</td>\n",
       "      <td>6.0622</td>\n",
       "      <td>3</td>\n",
       "      <td>222</td>\n",
       "      <td>18.7</td>\n",
       "      <td>394.63</td>\n",
       "      <td>2.94</td>\n",
       "      <td>33.4</td>\n",
       "    </tr>\n",
       "    <tr>\n",
       "      <th>4</th>\n",
       "      <td>0.06905</td>\n",
       "      <td>0.0</td>\n",
       "      <td>2.18</td>\n",
       "      <td>0.0</td>\n",
       "      <td>0.458</td>\n",
       "      <td>7.147</td>\n",
       "      <td>54.2</td>\n",
       "      <td>6.0622</td>\n",
       "      <td>3</td>\n",
       "      <td>222</td>\n",
       "      <td>18.7</td>\n",
       "      <td>396.90</td>\n",
       "      <td>NaN</td>\n",
       "      <td>36.2</td>\n",
       "    </tr>\n",
       "  </tbody>\n",
       "</table>\n",
       "</div>"
      ],
      "text/plain": [
       "      CRIM    ZN  INDUS  CHAS    NOX     RM   AGE     DIS  RAD  TAX  PTRATIO  \\\n",
       "0  0.00632  18.0   2.31   0.0  0.538  6.575  65.2  4.0900    1  296     15.3   \n",
       "1  0.02731   0.0   7.07   0.0  0.469  6.421  78.9  4.9671    2  242     17.8   \n",
       "2  0.02729   0.0   7.07   0.0  0.469  7.185  61.1  4.9671    2  242     17.8   \n",
       "3  0.03237   0.0   2.18   0.0  0.458  6.998  45.8  6.0622    3  222     18.7   \n",
       "4  0.06905   0.0   2.18   0.0  0.458  7.147  54.2  6.0622    3  222     18.7   \n",
       "\n",
       "        B  LSTAT  MEDV  \n",
       "0  396.90   4.98  24.0  \n",
       "1  396.90   9.14  21.6  \n",
       "2  392.83   4.03  34.7  \n",
       "3  394.63   2.94  33.4  \n",
       "4  396.90    NaN  36.2  "
      ]
     },
     "execution_count": 4,
     "metadata": {},
     "output_type": "execute_result"
    }
   ],
   "source": [
    "df.head()"
   ]
  },
  {
   "cell_type": "code",
   "execution_count": 5,
   "metadata": {},
   "outputs": [
    {
     "data": {
      "text/plain": [
       "(506, 14)"
      ]
     },
     "execution_count": 5,
     "metadata": {},
     "output_type": "execute_result"
    }
   ],
   "source": [
    "df.shape"
   ]
  },
  {
   "cell_type": "code",
   "execution_count": 6,
   "metadata": {},
   "outputs": [
    {
     "data": {
      "text/plain": [
       "CRIM       20\n",
       "ZN         20\n",
       "INDUS      20\n",
       "CHAS       20\n",
       "NOX         0\n",
       "RM          0\n",
       "AGE        20\n",
       "DIS         0\n",
       "RAD         0\n",
       "TAX         0\n",
       "PTRATIO     0\n",
       "B           0\n",
       "LSTAT      20\n",
       "MEDV        0\n",
       "dtype: int64"
      ]
     },
     "execution_count": 6,
     "metadata": {},
     "output_type": "execute_result"
    }
   ],
   "source": [
    "df.isna().sum()"
   ]
  },
  {
   "cell_type": "code",
   "execution_count": 7,
   "metadata": {},
   "outputs": [],
   "source": [
    "df = df.fillna(df.mean())"
   ]
  },
  {
   "cell_type": "code",
   "execution_count": 8,
   "metadata": {},
   "outputs": [
    {
     "data": {
      "text/plain": [
       "0"
      ]
     },
     "execution_count": 8,
     "metadata": {},
     "output_type": "execute_result"
    }
   ],
   "source": [
    "df.isna().sum().sum()"
   ]
  },
  {
   "cell_type": "code",
   "execution_count": 9,
   "metadata": {},
   "outputs": [],
   "source": [
    "Q1 = df.quantile(0.25)\n",
    "Q3 = df.quantile(0.75)\n",
    "IQR = Q3 - Q1\n",
    "\n",
    "outliers = ((df < (Q1 - 1.5 * IQR)) | (df > (Q3 + 1.5 * IQR))).any(axis=1)\n",
    "df = df[~outliers]"
   ]
  },
  {
   "cell_type": "code",
   "execution_count": 10,
   "metadata": {},
   "outputs": [],
   "source": [
    "X, y = df.drop(['MEDV'], axis=1), df['MEDV']"
   ]
  },
  {
   "cell_type": "code",
   "execution_count": 11,
   "metadata": {},
   "outputs": [],
   "source": [
    "sc = StandardScaler()\n",
    "X_scaled = sc.fit_transform(X)"
   ]
  },
  {
   "cell_type": "code",
   "execution_count": 12,
   "metadata": {},
   "outputs": [],
   "source": [
    "X_train, X_test, y_train, y_test = train_test_split(X_scaled, y, test_size=0.1, random_state=41)"
   ]
  },
  {
   "cell_type": "code",
   "execution_count": 13,
   "metadata": {},
   "outputs": [
    {
     "data": {
      "text/plain": [
       "(231, 13)"
      ]
     },
     "execution_count": 13,
     "metadata": {},
     "output_type": "execute_result"
    }
   ],
   "source": [
    "X_train.shape"
   ]
  },
  {
   "cell_type": "code",
   "execution_count": 14,
   "metadata": {},
   "outputs": [],
   "source": [
    "model = tf.keras.Sequential([\n",
    "    tf.keras.layers.Dense(1, input_shape=(X_train.shape[1],))\n",
    "])"
   ]
  },
  {
   "cell_type": "code",
   "execution_count": 15,
   "metadata": {},
   "outputs": [],
   "source": [
    "model.compile(optimizer=tf.keras.optimizers.Adam(learning_rate=1.0), loss='mse')"
   ]
  },
  {
   "cell_type": "code",
   "execution_count": 16,
   "metadata": {},
   "outputs": [
    {
     "name": "stdout",
     "output_type": "stream",
     "text": [
      "Epoch 1/100\n",
      "7/7 [==============================] - 2s 74ms/step - loss: 400.9616 - val_loss: 242.3652\n",
      "Epoch 2/100\n",
      "7/7 [==============================] - 0s 19ms/step - loss: 184.4701 - val_loss: 105.6890\n",
      "Epoch 3/100\n",
      "7/7 [==============================] - 0s 17ms/step - loss: 58.3571 - val_loss: 26.0489\n",
      "Epoch 4/100\n",
      "7/7 [==============================] - 0s 15ms/step - loss: 20.6704 - val_loss: 11.0632\n",
      "Epoch 5/100\n",
      "7/7 [==============================] - 0s 14ms/step - loss: 14.2667 - val_loss: 17.7498\n",
      "Epoch 6/100\n",
      "7/7 [==============================] - 0s 14ms/step - loss: 14.9622 - val_loss: 18.0340\n",
      "Epoch 7/100\n",
      "7/7 [==============================] - 0s 12ms/step - loss: 12.2641 - val_loss: 13.5148\n",
      "Epoch 8/100\n",
      "7/7 [==============================] - 0s 14ms/step - loss: 8.4251 - val_loss: 10.3867\n",
      "Epoch 9/100\n",
      "7/7 [==============================] - 0s 13ms/step - loss: 7.6454 - val_loss: 13.3276\n",
      "Epoch 10/100\n",
      "7/7 [==============================] - 0s 14ms/step - loss: 9.2065 - val_loss: 9.6828\n",
      "Epoch 11/100\n",
      "7/7 [==============================] - 0s 15ms/step - loss: 9.1101 - val_loss: 11.4476\n",
      "Epoch 12/100\n",
      "7/7 [==============================] - 0s 17ms/step - loss: 8.0015 - val_loss: 10.7043\n",
      "Epoch 13/100\n",
      "7/7 [==============================] - 0s 17ms/step - loss: 7.7648 - val_loss: 10.1639\n",
      "Epoch 14/100\n",
      "7/7 [==============================] - 0s 15ms/step - loss: 7.9081 - val_loss: 10.3357\n",
      "Epoch 15/100\n",
      "7/7 [==============================] - 0s 17ms/step - loss: 7.3136 - val_loss: 11.9363\n",
      "Epoch 16/100\n",
      "7/7 [==============================] - 0s 19ms/step - loss: 7.3606 - val_loss: 10.9589\n",
      "Epoch 17/100\n",
      "7/7 [==============================] - 0s 15ms/step - loss: 7.8062 - val_loss: 10.0234\n",
      "Epoch 18/100\n",
      "7/7 [==============================] - 0s 14ms/step - loss: 8.0230 - val_loss: 11.2284\n",
      "Epoch 19/100\n",
      "7/7 [==============================] - 0s 14ms/step - loss: 7.4231 - val_loss: 11.1730\n",
      "Epoch 20/100\n",
      "7/7 [==============================] - 0s 14ms/step - loss: 8.0781 - val_loss: 9.9970\n",
      "Epoch 21/100\n",
      "7/7 [==============================] - 0s 18ms/step - loss: 8.1288 - val_loss: 13.4486\n",
      "Epoch 22/100\n",
      "7/7 [==============================] - 0s 18ms/step - loss: 8.7487 - val_loss: 10.3178\n",
      "Epoch 23/100\n",
      "7/7 [==============================] - 0s 19ms/step - loss: 7.7329 - val_loss: 12.8078\n",
      "Epoch 24/100\n",
      "7/7 [==============================] - 0s 25ms/step - loss: 8.3800 - val_loss: 11.8582\n",
      "Epoch 25/100\n",
      "7/7 [==============================] - 0s 11ms/step - loss: 7.7551 - val_loss: 9.7351\n",
      "Epoch 26/100\n",
      "7/7 [==============================] - 0s 17ms/step - loss: 8.0588 - val_loss: 10.3647\n",
      "Epoch 27/100\n",
      "7/7 [==============================] - 0s 12ms/step - loss: 7.5317 - val_loss: 10.0211\n",
      "Epoch 28/100\n",
      "7/7 [==============================] - 0s 13ms/step - loss: 7.5679 - val_loss: 10.5365\n",
      "Epoch 29/100\n",
      "7/7 [==============================] - 0s 14ms/step - loss: 7.5318 - val_loss: 13.7551\n",
      "Epoch 30/100\n",
      "7/7 [==============================] - 0s 19ms/step - loss: 7.6875 - val_loss: 11.9851\n",
      "Epoch 31/100\n",
      "7/7 [==============================] - 0s 17ms/step - loss: 12.3584 - val_loss: 8.5583\n",
      "Epoch 32/100\n",
      "7/7 [==============================] - 0s 18ms/step - loss: 10.1677 - val_loss: 26.1350\n",
      "Epoch 33/100\n",
      "7/7 [==============================] - 0s 13ms/step - loss: 14.6401 - val_loss: 12.7677\n",
      "Epoch 34/100\n",
      "7/7 [==============================] - 0s 19ms/step - loss: 15.8571 - val_loss: 11.6868\n",
      "Epoch 35/100\n",
      "7/7 [==============================] - 0s 17ms/step - loss: 12.6318 - val_loss: 22.7824\n",
      "Epoch 36/100\n",
      "7/7 [==============================] - 0s 20ms/step - loss: 11.0275 - val_loss: 8.4012\n",
      "Epoch 37/100\n",
      "7/7 [==============================] - 0s 17ms/step - loss: 8.4670 - val_loss: 13.0100\n",
      "Epoch 38/100\n",
      "7/7 [==============================] - 0s 18ms/step - loss: 8.8712 - val_loss: 13.4358\n",
      "Epoch 39/100\n",
      "7/7 [==============================] - 0s 15ms/step - loss: 8.4106 - val_loss: 10.1680\n",
      "Epoch 40/100\n",
      "7/7 [==============================] - 0s 13ms/step - loss: 8.5332 - val_loss: 11.1029\n",
      "Epoch 41/100\n",
      "7/7 [==============================] - 0s 11ms/step - loss: 7.6527 - val_loss: 11.8776\n",
      "Epoch 42/100\n",
      "7/7 [==============================] - 0s 15ms/step - loss: 8.1729 - val_loss: 9.5595\n",
      "Epoch 43/100\n",
      "7/7 [==============================] - 0s 15ms/step - loss: 8.5470 - val_loss: 11.0906\n",
      "Epoch 44/100\n",
      "7/7 [==============================] - 0s 16ms/step - loss: 9.2463 - val_loss: 16.3798\n",
      "Epoch 45/100\n",
      "7/7 [==============================] - 0s 17ms/step - loss: 7.9650 - val_loss: 10.8926\n",
      "Epoch 46/100\n",
      "7/7 [==============================] - 0s 17ms/step - loss: 10.2947 - val_loss: 12.5547\n",
      "Epoch 47/100\n",
      "7/7 [==============================] - 0s 30ms/step - loss: 7.8501 - val_loss: 10.2743\n",
      "Epoch 48/100\n",
      "7/7 [==============================] - 0s 16ms/step - loss: 8.6343 - val_loss: 9.2935\n",
      "Epoch 49/100\n",
      "7/7 [==============================] - 0s 13ms/step - loss: 8.4126 - val_loss: 13.6125\n",
      "Epoch 50/100\n",
      "7/7 [==============================] - 0s 19ms/step - loss: 8.2164 - val_loss: 11.9820\n",
      "Epoch 51/100\n",
      "7/7 [==============================] - 0s 18ms/step - loss: 8.9898 - val_loss: 10.5573\n",
      "Epoch 52/100\n",
      "7/7 [==============================] - 0s 18ms/step - loss: 8.7054 - val_loss: 10.8524\n",
      "Epoch 53/100\n",
      "7/7 [==============================] - 0s 16ms/step - loss: 8.6869 - val_loss: 11.8953\n",
      "Epoch 54/100\n",
      "7/7 [==============================] - 0s 19ms/step - loss: 7.7755 - val_loss: 12.0216\n",
      "Epoch 55/100\n",
      "7/7 [==============================] - 0s 21ms/step - loss: 7.7862 - val_loss: 10.3497\n",
      "Epoch 56/100\n",
      "7/7 [==============================] - 0s 11ms/step - loss: 7.9411 - val_loss: 11.5520\n",
      "Epoch 57/100\n",
      "7/7 [==============================] - 0s 12ms/step - loss: 7.6084 - val_loss: 10.4798\n",
      "Epoch 58/100\n",
      "7/7 [==============================] - 0s 11ms/step - loss: 7.3358 - val_loss: 11.3512\n",
      "Epoch 59/100\n",
      "7/7 [==============================] - 0s 16ms/step - loss: 8.2225 - val_loss: 10.0725\n",
      "Epoch 60/100\n",
      "7/7 [==============================] - 0s 14ms/step - loss: 9.0524 - val_loss: 10.6840\n",
      "Epoch 61/100\n",
      "7/7 [==============================] - 0s 11ms/step - loss: 8.2434 - val_loss: 10.6576\n",
      "Epoch 62/100\n",
      "7/7 [==============================] - 0s 18ms/step - loss: 7.9452 - val_loss: 11.2024\n",
      "Epoch 63/100\n",
      "7/7 [==============================] - 0s 15ms/step - loss: 8.2332 - val_loss: 11.0026\n",
      "Epoch 64/100\n",
      "7/7 [==============================] - 0s 14ms/step - loss: 8.0939 - val_loss: 14.1433\n",
      "Epoch 65/100\n",
      "7/7 [==============================] - 0s 13ms/step - loss: 9.0935 - val_loss: 12.8360\n",
      "Epoch 66/100\n",
      "7/7 [==============================] - 0s 12ms/step - loss: 10.1742 - val_loss: 11.0049\n",
      "Epoch 67/100\n",
      "7/7 [==============================] - 0s 14ms/step - loss: 10.3590 - val_loss: 11.1498\n",
      "Epoch 68/100\n",
      "7/7 [==============================] - 0s 18ms/step - loss: 9.1429 - val_loss: 15.5492\n",
      "Epoch 69/100\n",
      "7/7 [==============================] - 0s 26ms/step - loss: 9.5627 - val_loss: 11.0772\n",
      "Epoch 70/100\n",
      "7/7 [==============================] - 0s 13ms/step - loss: 9.7544 - val_loss: 12.6701\n",
      "Epoch 71/100\n",
      "7/7 [==============================] - 0s 15ms/step - loss: 8.9495 - val_loss: 12.0310\n",
      "Epoch 72/100\n",
      "7/7 [==============================] - 0s 17ms/step - loss: 10.0614 - val_loss: 15.3047\n",
      "Epoch 73/100\n",
      "7/7 [==============================] - 0s 21ms/step - loss: 9.2338 - val_loss: 12.2166\n",
      "Epoch 74/100\n",
      "7/7 [==============================] - 0s 15ms/step - loss: 9.6689 - val_loss: 10.7454\n",
      "Epoch 75/100\n",
      "7/7 [==============================] - 0s 18ms/step - loss: 9.4846 - val_loss: 11.8993\n",
      "Epoch 76/100\n",
      "7/7 [==============================] - 0s 18ms/step - loss: 8.5241 - val_loss: 9.7109\n",
      "Epoch 77/100\n",
      "7/7 [==============================] - 0s 17ms/step - loss: 8.4815 - val_loss: 14.7894\n",
      "Epoch 78/100\n",
      "7/7 [==============================] - 0s 16ms/step - loss: 9.8787 - val_loss: 12.1826\n",
      "Epoch 79/100\n",
      "7/7 [==============================] - 0s 19ms/step - loss: 10.1665 - val_loss: 7.5546\n",
      "Epoch 80/100\n",
      "7/7 [==============================] - 0s 23ms/step - loss: 11.0876 - val_loss: 15.7807\n",
      "Epoch 81/100\n",
      "7/7 [==============================] - 0s 16ms/step - loss: 8.9690 - val_loss: 10.2121\n",
      "Epoch 82/100\n",
      "7/7 [==============================] - 0s 16ms/step - loss: 8.8648 - val_loss: 10.0981\n",
      "Epoch 83/100\n",
      "7/7 [==============================] - 0s 15ms/step - loss: 8.0565 - val_loss: 11.3760\n",
      "Epoch 84/100\n",
      "7/7 [==============================] - 0s 14ms/step - loss: 9.7327 - val_loss: 12.2791\n",
      "Epoch 85/100\n",
      "7/7 [==============================] - 0s 21ms/step - loss: 9.7340 - val_loss: 15.7247\n",
      "Epoch 86/100\n",
      "7/7 [==============================] - 0s 14ms/step - loss: 12.2606 - val_loss: 7.6611\n",
      "Epoch 87/100\n",
      "7/7 [==============================] - 0s 28ms/step - loss: 16.0946 - val_loss: 17.3516\n",
      "Epoch 88/100\n",
      "7/7 [==============================] - 0s 16ms/step - loss: 13.7623 - val_loss: 7.5486\n",
      "Epoch 89/100\n",
      "7/7 [==============================] - 0s 14ms/step - loss: 12.3011 - val_loss: 46.4167\n",
      "Epoch 90/100\n",
      "7/7 [==============================] - 0s 15ms/step - loss: 19.2932 - val_loss: 9.4472\n",
      "Epoch 91/100\n",
      "7/7 [==============================] - 0s 18ms/step - loss: 10.3709 - val_loss: 10.6932\n",
      "Epoch 92/100\n",
      "7/7 [==============================] - 0s 21ms/step - loss: 9.1521 - val_loss: 16.2032\n",
      "Epoch 93/100\n",
      "7/7 [==============================] - 0s 18ms/step - loss: 8.3303 - val_loss: 9.4275\n",
      "Epoch 94/100\n",
      "7/7 [==============================] - 0s 19ms/step - loss: 8.7006 - val_loss: 10.8493\n",
      "Epoch 95/100\n",
      "7/7 [==============================] - 0s 20ms/step - loss: 10.7403 - val_loss: 20.7285\n",
      "Epoch 96/100\n",
      "7/7 [==============================] - 0s 15ms/step - loss: 15.1633 - val_loss: 14.0124\n",
      "Epoch 97/100\n",
      "7/7 [==============================] - 0s 18ms/step - loss: 12.6928 - val_loss: 11.3542\n",
      "Epoch 98/100\n",
      "7/7 [==============================] - 0s 13ms/step - loss: 11.2491 - val_loss: 15.8309\n",
      "Epoch 99/100\n",
      "7/7 [==============================] - 0s 13ms/step - loss: 10.3684 - val_loss: 12.5262\n",
      "Epoch 100/100\n",
      "7/7 [==============================] - 0s 16ms/step - loss: 10.6635 - val_loss: 16.2788\n"
     ]
    },
    {
     "data": {
      "text/plain": [
       "<keras.src.callbacks.History at 0x286cc42a390>"
      ]
     },
     "execution_count": 16,
     "metadata": {},
     "output_type": "execute_result"
    }
   ],
   "source": [
    "model.fit(X_train, y_train, epochs=100, batch_size=32, validation_split=0.1)"
   ]
  },
  {
   "cell_type": "code",
   "execution_count": 17,
   "metadata": {},
   "outputs": [
    {
     "name": "stdout",
     "output_type": "stream",
     "text": [
      "1/1 [==============================] - 0s 50ms/step - loss: 10.8922\n"
     ]
    }
   ],
   "source": [
    "mse = model.evaluate(X_test, y_test)"
   ]
  },
  {
   "cell_type": "code",
   "execution_count": 18,
   "metadata": {},
   "outputs": [
    {
     "name": "stdout",
     "output_type": "stream",
     "text": [
      "Mean squared error on test data:  10.892229080200195\n"
     ]
    }
   ],
   "source": [
    "print('Mean squared error on test data: ', mse)"
   ]
  }
 ],
 "metadata": {
  "kernelspec": {
   "display_name": "base",
   "language": "python",
   "name": "python3"
  },
  "language_info": {
   "codemirror_mode": {
    "name": "ipython",
    "version": 3
   },
   "file_extension": ".py",
   "mimetype": "text/x-python",
   "name": "python",
   "nbconvert_exporter": "python",
   "pygments_lexer": "ipython3",
   "version": "3.11.7"
  }
 },
 "nbformat": 4,
 "nbformat_minor": 2
}
