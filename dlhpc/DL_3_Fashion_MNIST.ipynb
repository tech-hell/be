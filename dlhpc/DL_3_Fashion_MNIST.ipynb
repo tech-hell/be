{
 "cells": [
  {
   "cell_type": "markdown",
   "id": "9721eeea-f15a-4dbb-bc91-13372c70a5d4",
   "metadata": {},
   "source": [
    "##### Convolutional neural network (CNN)\n",
    "• Use MNIST Fashion Dataset and create a classifier to classify fashion clothing into categories."
   ]
  },
  {
   "cell_type": "markdown",
   "id": "90de4d8b-6d71-4473-88c0-5a2e948c79fa",
   "metadata": {},
   "source": [
    "# Imports"
   ]
  },
  {
   "cell_type": "code",
   "execution_count": 10,
   "id": "30575a3c-98c0-4b94-bcb7-95d481514281",
   "metadata": {},
   "outputs": [],
   "source": [
    "import tensorflow as tf\n",
    "from tensorflow.keras.datasets import fashion_mnist\n",
    "from tensorflow.keras.utils import to_categorical\n",
    "from tensorflow.keras import layers, models"
   ]
  },
  {
   "cell_type": "markdown",
   "id": "8e0f8071-ab03-4d30-96c9-f909b91e9a14",
   "metadata": {},
   "source": [
    "# Loading the Dataset"
   ]
  },
  {
   "cell_type": "code",
   "execution_count": 11,
   "id": "c77c2494-8e2c-4892-988a-959fd37edca9",
   "metadata": {},
   "outputs": [],
   "source": [
    "(X_train, y_train), (X_test, y_test) = fashion_mnist.load_data()"
   ]
  },
  {
   "cell_type": "markdown",
   "id": "f2b608f7-a725-4b49-8f76-79a0b03b29e7",
   "metadata": {},
   "source": [
    "# Normalize the pixel values to range [0,1]"
   ]
  },
  {
   "cell_type": "code",
   "execution_count": 12,
   "id": "7f2324d0-97a4-4c2e-9b45-dd482465964b",
   "metadata": {},
   "outputs": [],
   "source": [
    "X_train = X_train.astype('float32') / 255.0\n",
    "X_test = X_test.astype('float32') / 255.0"
   ]
  },
  {
   "cell_type": "markdown",
   "id": "74356397-951c-4e25-826c-9f27c1ec355a",
   "metadata": {},
   "source": [
    "# Grayscale - single channel reshaping"
   ]
  },
  {
   "cell_type": "code",
   "execution_count": 13,
   "id": "75b5f72b-883e-458c-9786-d333fb5dbbab",
   "metadata": {},
   "outputs": [],
   "source": [
    "X_train = X_train.reshape((-1, 28, 28, 1))\n",
    "X_test = X_test.reshape((-1, 28, 28, 1))"
   ]
  },
  {
   "cell_type": "code",
   "execution_count": 14,
   "id": "519a1314-110a-4762-bfa8-048243ad50f4",
   "metadata": {},
   "outputs": [
    {
     "data": {
      "text/plain": [
       "(60000, 28, 28, 1)"
      ]
     },
     "execution_count": 14,
     "metadata": {},
     "output_type": "execute_result"
    }
   ],
   "source": [
    "X_train.shape"
   ]
  },
  {
   "cell_type": "markdown",
   "id": "48b666ca-e0af-4185-b9c0-ba3be17c0dc2",
   "metadata": {},
   "source": [
    "# Converting y into 10 classes"
   ]
  },
  {
   "cell_type": "code",
   "execution_count": 15,
   "id": "fb7f21ec-990f-4621-bc5b-7acaac8b08a0",
   "metadata": {},
   "outputs": [],
   "source": [
    "y_train = to_categorical(y_train, num_classes=10)\n",
    "y_test = to_categorical(y_test, num_classes=10)"
   ]
  },
  {
   "cell_type": "markdown",
   "id": "ebfd1251-2762-42d0-b3ab-30e26af97b97",
   "metadata": {},
   "source": [
    "# Model Architecture"
   ]
  },
  {
   "cell_type": "code",
   "execution_count": 16,
   "id": "5381aa04-5b60-4131-9062-de5b57a1710a",
   "metadata": {},
   "outputs": [],
   "source": [
    "model = models.Sequential([\n",
    "    layers.Conv2D(64, (3, 3), activation='relu', input_shape=(28, 28, 1)),\n",
    "    layers.MaxPooling2D((2, 2)),\n",
    "    layers.Conv2D(32, (3, 3), activation='relu'),\n",
    "    layers.Flatten(),\n",
    "    layers.Dense(10, activation='softmax')\n",
    "])"
   ]
  },
  {
   "cell_type": "code",
   "execution_count": 17,
   "id": "351fd4a6-c41b-456c-a5ea-32d2155128d7",
   "metadata": {},
   "outputs": [],
   "source": [
    "model.compile(optimizer='adam', loss='categorical_crossentropy', metrics=['accuracy'])"
   ]
  },
  {
   "cell_type": "code",
   "execution_count": 18,
   "id": "f0817834-05de-43f2-853e-80f36721c781",
   "metadata": {},
   "outputs": [
    {
     "name": "stdout",
     "output_type": "stream",
     "text": [
      "\u001b[1m1688/1688\u001b[0m \u001b[32m━━━━━━━━━━━━━━━━━━━━\u001b[0m\u001b[37m\u001b[0m \u001b[1m226s\u001b[0m 133ms/step - accuracy: 0.8028 - loss: 0.5463 - val_accuracy: 0.8947 - val_loss: 0.2904\n"
     ]
    },
    {
     "data": {
      "text/plain": [
       "<keras.src.callbacks.history.History at 0x21ddc2f7410>"
      ]
     },
     "execution_count": 18,
     "metadata": {},
     "output_type": "execute_result"
    }
   ],
   "source": [
    "model.fit(X_train, y_train, epochs=10, batch_size=32, validation_split=0.1)"
   ]
  },
  {
   "cell_type": "code",
   "execution_count": 19,
   "id": "2ebea9e4-9dc3-4531-a0e4-b6544caf396b",
   "metadata": {},
   "outputs": [
    {
     "name": "stdout",
     "output_type": "stream",
     "text": [
      "\u001b[1m313/313\u001b[0m \u001b[32m━━━━━━━━━━━━━━━━━━━━\u001b[0m\u001b[37m\u001b[0m \u001b[1m11s\u001b[0m 35ms/step - accuracy: 0.8917 - loss: 0.3093\n"
     ]
    },
    {
     "data": {
      "text/plain": [
       "0.8916000127792358"
      ]
     },
     "execution_count": 19,
     "metadata": {},
     "output_type": "execute_result"
    }
   ],
   "source": [
    "loss, accuracy = model.evaluate(X_test, y_test)\n",
    "accuracy"
   ]
  },
  {
   "cell_type": "markdown",
   "id": "07763f95-b928-40d2-a36e-4dad9c504399",
   "metadata": {},
   "source": [
    "# Confusion Matrix"
   ]
  },
  {
   "cell_type": "code",
   "execution_count": 20,
   "id": "0db856a7-b165-4c6b-b09c-f9e85d526211",
   "metadata": {},
   "outputs": [],
   "source": [
    "import numpy as np\n",
    "import matplotlib.pyplot as plt\n",
    "import seaborn as sns"
   ]
  },
  {
   "cell_type": "code",
   "execution_count": 21,
   "id": "02e20891-3bb1-494c-9d31-3d0701cbf1e5",
   "metadata": {},
   "outputs": [
    {
     "name": "stdout",
     "output_type": "stream",
     "text": [
      "\u001b[1m313/313\u001b[0m \u001b[32m━━━━━━━━━━━━━━━━━━━━\u001b[0m\u001b[37m\u001b[0m \u001b[1m12s\u001b[0m 38ms/step\n"
     ]
    }
   ],
   "source": [
    "y_pred = model.predict(X_test)"
   ]
  },
  {
   "cell_type": "code",
   "execution_count": 22,
   "id": "3db38248-d5fb-4383-a592-dc52dc8a2b8f",
   "metadata": {},
   "outputs": [],
   "source": [
    "y_test_labels = np.argmax(y_test, axis=1)\n",
    "y_pred_labels = np.argmax(y_pred, axis=1)"
   ]
  },
  {
   "cell_type": "markdown",
   "id": "1eff97d2-56f2-4143-ad9c-92fe77cdca62",
   "metadata": {},
   "source": [
    "# Prediction"
   ]
  },
  {
   "cell_type": "code",
   "execution_count": 23,
   "id": "0caacb02-984b-4890-ab29-f9bafd406898",
   "metadata": {},
   "outputs": [
    {
     "data": {
      "image/png": "[encoded data removed]",
      "text/plain": [
       "<Figure size 640x480 with 1 Axes>"
      ]
     },
     "metadata": {},
     "output_type": "display_data"
    }
   ],
   "source": [
    "image = X_test[-3].squeeze()\n",
    "true_label = np.argmax(y_test[-3])\n",
    "plt.imshow(image, cmap='gray');"
   ]
  },
  {
   "cell_type": "code",
   "execution_count": 24,
   "id": "0a78ece3-60a7-4721-882a-aa807ce95be6",
   "metadata": {},
   "outputs": [
    {
     "name": "stdout",
     "output_type": "stream",
     "text": [
      "\u001b[1m1/1\u001b[0m \u001b[32m━━━━━━━━━━━━━━━━━━━━\u001b[0m\u001b[37m\u001b[0m \u001b[1m0s\u001b[0m 33ms/step\n"
     ]
    }
   ],
   "source": [
    "pred = model.predict(X_test[-3].reshape(1, 28, 28, 1))\n",
    "index = np.argmax(pred, axis=1)"
   ]
  },
  {
   "cell_type": "code",
   "execution_count": 25,
   "id": "6aaa481b-e994-4d77-99ea-8ae12253569a",
   "metadata": {},
   "outputs": [],
   "source": [
    "fashion_categories = {0: 'T-shirt/top', 1: 'Trouser', 2: 'Pullover', 3: 'Dress', 4: 'Coat', 5: 'Sandal', 6: 'Shirt', 7: 'Sneaker', 8: 'Bag', 9: 'Ankle boot'}"
   ]
  },
  {
   "cell_type": "code",
   "execution_count": 26,
   "id": "8af53f77-543d-44c5-a5ea-c41a1bdad3d1",
   "metadata": {},
   "outputs": [
    {
     "data": {
      "text/plain": [
       "'Bag'"
      ]
     },
     "execution_count": 26,
     "metadata": {},
     "output_type": "execute_result"
    }
   ],
   "source": [
    "fashion_categories[index[0]]"
   ]
  },
  {
   "cell_type": "code",
   "execution_count": null,
   "id": "fc6cf90e-3b71-4628-bbd1-35aeaa979fbb",
   "metadata": {},
   "outputs": [],
   "source": []
  }
 ],
 "metadata": {
  "kernelspec": {
   "display_name": "Python 3 (ipykernel)",
   "language": "python",
   "name": "python3"
  },
  "language_info": {
   "codemirror_mode": {
    "name": "ipython",
    "version": 3
   },
   "file_extension": ".py",
   "mimetype": "text/x-python",
   "name": "python",
   "nbconvert_exporter": "python",
   "pygments_lexer": "ipython3",
   "version": "3.11.7"
  }
 },
 "nbformat": 4,
 "nbformat_minor": 5
}
